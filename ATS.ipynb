{
 "cells": [
  {
   "cell_type": "code",
   "execution_count": 1,
   "metadata": {
    "id": "8hiossCgNbel"
   },
   "outputs": [],
   "source": [
    "import google.generativeai as genai_api\n",
    "import PyPDF2 as py_pdf"
   ]
  },
  {
   "cell_type": "code",
   "execution_count": 2,
   "metadata": {
    "id": "uwX5fuD3b5Mn"
   },
   "outputs": [],
   "source": [
    "genai_api.configure(api_key=os.getenv(\"GOOGLE_API_KEY\"))"
   ]
  },
  {
   "cell_type": "code",
   "execution_count": null,
   "metadata": {},
   "outputs": [],
   "source": [
    "# Function to parse the document\n",
    "def extract_text_from_pdf(file_stream):\n",
    "    pdf_reader = py_pdf.PdfReader(file_stream)\n",
    "    combined_text = []\n",
    "    for page in pdf_reader.pages:\n",
    "        page_text = page.extract_text() or ''\n",
    "        combined_text.append(page_text)\n",
    "    return ''.join(combined_text)"
   ]
  },
  {
   "cell_type": "code",
   "execution_count": 3,
   "metadata": {
    "id": "o5_juNNlb5zM"
   },
   "outputs": [],
   "source": [
    "# Custom function to generate the response\n",
    "def fetch_genai_response(prompt_text):\n",
    "    genai_model = genai_api.GenerativeModel('gemini-pro')\n",
    "    model_response = genai_model.generate_content(prompt_text)\n",
    "    return model_response.text"
   ]
  },
  {
   "cell_type": "code",
   "execution_count": 7,
   "metadata": {
    "id": "bNJPWb8ob_hG"
   },
   "outputs": [],
   "source": [
    "input_prompt_template = \"\"\"\n",
    "Imagine yourself as a highly experienced and skilled Application Tracking System (ATS) with a profound knowledge\n",
    "base in the technology sector, including areas like software engineering, data science, data analysis, and big\n",
    "data engineering. Your role involves critically evaluating resumes against specified job descriptions. Given the\n",
    "intense competitiveness of the job market, your guidance is crucial in enhancing these resumes. Determine the \n",
    "alignment percentage between the resume and the job description, identify any keywords that are missing, and \n",
    "provide a high degree of accuracy in your assessment.\n",
    "Resume content: {text}\n",
    "Job description: {jd}\n",
    "\n",
    "Please format your analysis as a single string structured like this:\n",
    "{{\"JD Match\":\"%\",\"MissingKeywords:[]\",\"Profile Summary\":\"\"}}\n",
    "\"\"\""
   ]
  },
  {
   "cell_type": "code",
   "execution_count": 8,
   "metadata": {
    "colab": {
     "base_uri": "https://localhost:8080/"
    },
    "id": "paZqWUk_cjNT",
    "outputId": "d6504871-b97f-4103-a7dd-91a9cf0be71f"
   },
   "outputs": [
    {
     "name": "stderr",
     "output_type": "stream",
     "text": [
      "2024-03-28 14:24:20.842 \n",
      "  \u001b[33m\u001b[1mWarning:\u001b[0m to view this Streamlit app on a browser, run it with the following\n",
      "  command:\n",
      "\n",
      "    streamlit run /usr/local/lib/python3.10/dist-packages/colab_kernel_launcher.py [ARGUMENTS]\n"
     ]
    }
   ],
   "source": [
    "# Streamlit setup\n",
    "import streamlit as st\n",
    "\n",
    "st.title(\"ATS System Helper\")\n",
    "st.text(\"An ATS to help you get interview calls.\")\n",
    "job_description = st.text_area(\"Paste the job description here\")\n",
    "uploaded_resume = st.file_uploader(\"Upload Your Resume\", type=\"pdf\", help=\"Please upload the PDF of your resume.\")\n",
    "\n",
    "submit_button_clicked = st.button(\"Analyze Resume\")"
   ]
  },
  {
   "cell_type": "code",
   "execution_count": 9,
   "metadata": {
    "id": "9UcIsbijcou_"
   },
   "outputs": [],
   "source": [
    "if submit_button_clicked:\n",
    "    if uploaded_resume is not None:\n",
    "        resume_text = extract_text_from_pdf(uploaded_resume)\n",
    "        ats_response = fetch_genai_response(input_prompt_template.format(text=resume_text, jd=job_description))\n",
    "        st.subheader(ats_response)"
   ]
  },
  {
   "cell_type": "code",
   "execution_count": null,
   "metadata": {
    "colab": {
     "base_uri": "https://localhost:8080/"
    },
    "id": "11vajG7tcrDh",
    "outputId": "bc674c05-f227-4257-8908-7a6d55cd5464"
   },
   "outputs": [
    {
     "name": "stdout",
     "output_type": "stream",
     "text": [
      "\n",
      "Collecting usage statistics. To deactivate, set browser.gatherUsageStats to False.\n",
      "\u001b[0m\n",
      "\u001b[0m\n",
      "\u001b[34m\u001b[1m  You can now view your Streamlit app in your browser.\u001b[0m\n",
      "\u001b[0m\n",
      "\u001b[34m  Network URL: \u001b[0m\u001b[1mhttp://172.28.0.12:8501\u001b[0m\n",
      "\u001b[34m  External URL: \u001b[0m\u001b[1mhttp://35.247.41.224:8501\u001b[0m\n",
      "\u001b[0m\n"
     ]
    }
   ],
   "source": [
    "!streamlit run /usr/local/lib/python3.10/dist-packages/colab_kernel_launcher.py"
   ]
  },
  {
   "cell_type": "code",
   "execution_count": null,
   "metadata": {
    "id": "fUn0R5_ucwW4"
   },
   "outputs": [],
   "source": []
  }
 ],
 "metadata": {
  "colab": {
   "provenance": []
  },
  "kernelspec": {
   "display_name": "Python 3 (ipykernel)",
   "language": "python",
   "name": "python3"
  },
  "language_info": {
   "codemirror_mode": {
    "name": "ipython",
    "version": 3
   },
   "file_extension": ".py",
   "mimetype": "text/x-python",
   "name": "python",
   "nbconvert_exporter": "python",
   "pygments_lexer": "ipython3",
   "version": "3.11.5"
  }
 },
 "nbformat": 4,
 "nbformat_minor": 1
}
